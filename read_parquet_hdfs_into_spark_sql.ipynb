{
 "cells": [
  {
   "cell_type": "code",
   "execution_count": 1,
   "metadata": {
    "collapsed": true
   },
   "outputs": [],
   "source": [
    "purchases = spark.read.parquet('/tmp/purchases') # Spark read on tmp purchases "
   ]
  },
  {
   "cell_type": "code",
   "execution_count": 2,
   "metadata": {},
   "outputs": [
    {
     "data": {
      "text/plain": [
       "DataFrame[Accept: string, Host: string, User-Agent: string, event_type: string, timestamp: string]"
      ]
     },
     "execution_count": 2,
     "metadata": {},
     "output_type": "execute_result"
    }
   ],
   "source": [
    "purchases # Note it's the same schema we wrote to parquet"
   ]
  },
  {
   "cell_type": "code",
   "execution_count": 3,
   "metadata": {},
   "outputs": [
    {
     "name": "stdout",
     "output_type": "stream",
     "text": [
      "+------+-----------------+---------------+--------------+--------------------+\n",
      "|Accept|             Host|     User-Agent|    event_type|           timestamp|\n",
      "+------+-----------------+---------------+--------------+--------------------+\n",
      "|   */*|user1.comcast.com|ApacheBench/2.3|purchase_sword|2018-07-27 21:02:...|\n",
      "|   */*|user1.comcast.com|ApacheBench/2.3|purchase_sword|2018-07-27 21:02:...|\n",
      "|   */*|user1.comcast.com|ApacheBench/2.3|purchase_sword|2018-07-27 21:02:...|\n",
      "|   */*|user1.comcast.com|ApacheBench/2.3|purchase_sword|2018-07-27 21:02:...|\n",
      "|   */*|user1.comcast.com|ApacheBench/2.3|purchase_sword|2018-07-27 21:02:...|\n",
      "|   */*|user1.comcast.com|ApacheBench/2.3|purchase_sword|2018-07-27 21:02:...|\n",
      "|   */*|user1.comcast.com|ApacheBench/2.3|purchase_sword|2018-07-27 21:02:...|\n",
      "|   */*|user1.comcast.com|ApacheBench/2.3|purchase_sword|2018-07-27 21:02:...|\n",
      "|   */*|user1.comcast.com|ApacheBench/2.3|purchase_sword|2018-07-27 21:02:...|\n",
      "|   */*|user1.comcast.com|ApacheBench/2.3|purchase_sword|2018-07-27 21:02:...|\n",
      "|   */*|    user2.att.com|ApacheBench/2.3|purchase_sword|2018-07-27 21:03:...|\n",
      "|   */*|    user2.att.com|ApacheBench/2.3|purchase_sword|2018-07-27 21:03:...|\n",
      "|   */*|    user2.att.com|ApacheBench/2.3|purchase_sword|2018-07-27 21:03:...|\n",
      "|   */*|    user2.att.com|ApacheBench/2.3|purchase_sword|2018-07-27 21:03:...|\n",
      "|   */*|    user2.att.com|ApacheBench/2.3|purchase_sword|2018-07-27 21:03:...|\n",
      "|   */*|    user2.att.com|ApacheBench/2.3|purchase_sword|2018-07-27 21:03:...|\n",
      "|   */*|    user2.att.com|ApacheBench/2.3|purchase_sword|2018-07-27 21:03:...|\n",
      "|   */*|    user2.att.com|ApacheBench/2.3|purchase_sword|2018-07-27 21:03:...|\n",
      "|   */*|    user2.att.com|ApacheBench/2.3|purchase_sword|2018-07-27 21:03:...|\n",
      "|   */*|    user2.att.com|ApacheBench/2.3|purchase_sword|2018-07-27 21:03:...|\n",
      "+------+-----------------+---------------+--------------+--------------------+\n",
      "\n"
     ]
    }
   ],
   "source": [
    "purchases.show() #Show the purchases we just wrote"
   ]
  },
  {
   "cell_type": "code",
   "execution_count": 4,
   "metadata": {
    "collapsed": true
   },
   "outputs": [],
   "source": [
    "purchases.registerTempTable('purchases') # Register dataframe as a table"
   ]
  },
  {
   "cell_type": "code",
   "execution_count": 6,
   "metadata": {
    "collapsed": true
   },
   "outputs": [],
   "source": [
    "# Write a SQL query using spark SQL to select the purchases from user1\n",
    "purchases_by_example2 = spark.sql(\"select * from purchases where Host = 'user1.comcast.com'\") "
   ]
  },
  {
   "cell_type": "code",
   "execution_count": 7,
   "metadata": {},
   "outputs": [
    {
     "name": "stdout",
     "output_type": "stream",
     "text": [
      "+------+-----------------+---------------+--------------+--------------------+\n",
      "|Accept|             Host|     User-Agent|    event_type|           timestamp|\n",
      "+------+-----------------+---------------+--------------+--------------------+\n",
      "|   */*|user1.comcast.com|ApacheBench/2.3|purchase_sword|2018-07-27 21:02:...|\n",
      "|   */*|user1.comcast.com|ApacheBench/2.3|purchase_sword|2018-07-27 21:02:...|\n",
      "|   */*|user1.comcast.com|ApacheBench/2.3|purchase_sword|2018-07-27 21:02:...|\n",
      "|   */*|user1.comcast.com|ApacheBench/2.3|purchase_sword|2018-07-27 21:02:...|\n",
      "|   */*|user1.comcast.com|ApacheBench/2.3|purchase_sword|2018-07-27 21:02:...|\n",
      "|   */*|user1.comcast.com|ApacheBench/2.3|purchase_sword|2018-07-27 21:02:...|\n",
      "|   */*|user1.comcast.com|ApacheBench/2.3|purchase_sword|2018-07-27 21:02:...|\n",
      "|   */*|user1.comcast.com|ApacheBench/2.3|purchase_sword|2018-07-27 21:02:...|\n",
      "|   */*|user1.comcast.com|ApacheBench/2.3|purchase_sword|2018-07-27 21:02:...|\n",
      "|   */*|user1.comcast.com|ApacheBench/2.3|purchase_sword|2018-07-27 21:02:...|\n",
      "+------+-----------------+---------------+--------------+--------------------+\n",
      "\n"
     ]
    }
   ],
   "source": [
    "purchases_by_example2.show() # Show the subset, 10 entries, as expected"
   ]
  },
  {
   "cell_type": "code",
   "execution_count": 8,
   "metadata": {
    "collapsed": true
   },
   "outputs": [],
   "source": [
    "# Save the temporary table to a Pandas data frame, to show the opposite of what I just did\n",
    "df = purchases_by_example2.toPandas() "
   ]
  },
  {
   "cell_type": "code",
   "execution_count": 9,
   "metadata": {},
   "outputs": [
    {
     "data": {
      "text/html": [
       "<div>\n",
       "<style>\n",
       "    .dataframe thead tr:only-child th {\n",
       "        text-align: right;\n",
       "    }\n",
       "\n",
       "    .dataframe thead th {\n",
       "        text-align: left;\n",
       "    }\n",
       "\n",
       "    .dataframe tbody tr th {\n",
       "        vertical-align: top;\n",
       "    }\n",
       "</style>\n",
       "<table border=\"1\" class=\"dataframe\">\n",
       "  <thead>\n",
       "    <tr style=\"text-align: right;\">\n",
       "      <th></th>\n",
       "      <th>Accept</th>\n",
       "      <th>Host</th>\n",
       "      <th>User-Agent</th>\n",
       "      <th>event_type</th>\n",
       "      <th>timestamp</th>\n",
       "    </tr>\n",
       "  </thead>\n",
       "  <tbody>\n",
       "    <tr>\n",
       "      <th>0</th>\n",
       "      <td>*/*</td>\n",
       "      <td>user1.comcast.com</td>\n",
       "      <td>ApacheBench/2.3</td>\n",
       "      <td>purchase_sword</td>\n",
       "      <td>2018-07-27 21:02:51.051</td>\n",
       "    </tr>\n",
       "    <tr>\n",
       "      <th>1</th>\n",
       "      <td>*/*</td>\n",
       "      <td>user1.comcast.com</td>\n",
       "      <td>ApacheBench/2.3</td>\n",
       "      <td>purchase_sword</td>\n",
       "      <td>2018-07-27 21:02:51.054</td>\n",
       "    </tr>\n",
       "    <tr>\n",
       "      <th>2</th>\n",
       "      <td>*/*</td>\n",
       "      <td>user1.comcast.com</td>\n",
       "      <td>ApacheBench/2.3</td>\n",
       "      <td>purchase_sword</td>\n",
       "      <td>2018-07-27 21:02:51.059</td>\n",
       "    </tr>\n",
       "    <tr>\n",
       "      <th>3</th>\n",
       "      <td>*/*</td>\n",
       "      <td>user1.comcast.com</td>\n",
       "      <td>ApacheBench/2.3</td>\n",
       "      <td>purchase_sword</td>\n",
       "      <td>2018-07-27 21:02:51.064</td>\n",
       "    </tr>\n",
       "    <tr>\n",
       "      <th>4</th>\n",
       "      <td>*/*</td>\n",
       "      <td>user1.comcast.com</td>\n",
       "      <td>ApacheBench/2.3</td>\n",
       "      <td>purchase_sword</td>\n",
       "      <td>2018-07-27 21:02:51.066</td>\n",
       "    </tr>\n",
       "    <tr>\n",
       "      <th>5</th>\n",
       "      <td>*/*</td>\n",
       "      <td>user1.comcast.com</td>\n",
       "      <td>ApacheBench/2.3</td>\n",
       "      <td>purchase_sword</td>\n",
       "      <td>2018-07-27 21:02:51.07</td>\n",
       "    </tr>\n",
       "    <tr>\n",
       "      <th>6</th>\n",
       "      <td>*/*</td>\n",
       "      <td>user1.comcast.com</td>\n",
       "      <td>ApacheBench/2.3</td>\n",
       "      <td>purchase_sword</td>\n",
       "      <td>2018-07-27 21:02:51.073</td>\n",
       "    </tr>\n",
       "    <tr>\n",
       "      <th>7</th>\n",
       "      <td>*/*</td>\n",
       "      <td>user1.comcast.com</td>\n",
       "      <td>ApacheBench/2.3</td>\n",
       "      <td>purchase_sword</td>\n",
       "      <td>2018-07-27 21:02:51.079</td>\n",
       "    </tr>\n",
       "    <tr>\n",
       "      <th>8</th>\n",
       "      <td>*/*</td>\n",
       "      <td>user1.comcast.com</td>\n",
       "      <td>ApacheBench/2.3</td>\n",
       "      <td>purchase_sword</td>\n",
       "      <td>2018-07-27 21:02:51.083</td>\n",
       "    </tr>\n",
       "    <tr>\n",
       "      <th>9</th>\n",
       "      <td>*/*</td>\n",
       "      <td>user1.comcast.com</td>\n",
       "      <td>ApacheBench/2.3</td>\n",
       "      <td>purchase_sword</td>\n",
       "      <td>2018-07-27 21:02:51.086</td>\n",
       "    </tr>\n",
       "  </tbody>\n",
       "</table>\n",
       "</div>"
      ],
      "text/plain": [
       "  Accept               Host       User-Agent      event_type  \\\n",
       "0    */*  user1.comcast.com  ApacheBench/2.3  purchase_sword   \n",
       "1    */*  user1.comcast.com  ApacheBench/2.3  purchase_sword   \n",
       "2    */*  user1.comcast.com  ApacheBench/2.3  purchase_sword   \n",
       "3    */*  user1.comcast.com  ApacheBench/2.3  purchase_sword   \n",
       "4    */*  user1.comcast.com  ApacheBench/2.3  purchase_sword   \n",
       "5    */*  user1.comcast.com  ApacheBench/2.3  purchase_sword   \n",
       "6    */*  user1.comcast.com  ApacheBench/2.3  purchase_sword   \n",
       "7    */*  user1.comcast.com  ApacheBench/2.3  purchase_sword   \n",
       "8    */*  user1.comcast.com  ApacheBench/2.3  purchase_sword   \n",
       "9    */*  user1.comcast.com  ApacheBench/2.3  purchase_sword   \n",
       "\n",
       "                 timestamp  \n",
       "0  2018-07-27 21:02:51.051  \n",
       "1  2018-07-27 21:02:51.054  \n",
       "2  2018-07-27 21:02:51.059  \n",
       "3  2018-07-27 21:02:51.064  \n",
       "4  2018-07-27 21:02:51.066  \n",
       "5   2018-07-27 21:02:51.07  \n",
       "6  2018-07-27 21:02:51.073  \n",
       "7  2018-07-27 21:02:51.079  \n",
       "8  2018-07-27 21:02:51.083  \n",
       "9  2018-07-27 21:02:51.086  "
      ]
     },
     "execution_count": 9,
     "metadata": {},
     "output_type": "execute_result"
    }
   ],
   "source": [
    "df # Print the Pandas data frame"
   ]
  },
  {
   "cell_type": "code",
   "execution_count": 10,
   "metadata": {},
   "outputs": [
    {
     "data": {
      "text/html": [
       "<div>\n",
       "<style>\n",
       "    .dataframe thead tr:only-child th {\n",
       "        text-align: right;\n",
       "    }\n",
       "\n",
       "    .dataframe thead th {\n",
       "        text-align: left;\n",
       "    }\n",
       "\n",
       "    .dataframe tbody tr th {\n",
       "        vertical-align: top;\n",
       "    }\n",
       "</style>\n",
       "<table border=\"1\" class=\"dataframe\">\n",
       "  <thead>\n",
       "    <tr style=\"text-align: right;\">\n",
       "      <th></th>\n",
       "      <th>Accept</th>\n",
       "      <th>Host</th>\n",
       "      <th>User-Agent</th>\n",
       "      <th>event_type</th>\n",
       "      <th>timestamp</th>\n",
       "    </tr>\n",
       "  </thead>\n",
       "  <tbody>\n",
       "    <tr>\n",
       "      <th>count</th>\n",
       "      <td>10</td>\n",
       "      <td>10</td>\n",
       "      <td>10</td>\n",
       "      <td>10</td>\n",
       "      <td>10</td>\n",
       "    </tr>\n",
       "    <tr>\n",
       "      <th>unique</th>\n",
       "      <td>1</td>\n",
       "      <td>1</td>\n",
       "      <td>1</td>\n",
       "      <td>1</td>\n",
       "      <td>10</td>\n",
       "    </tr>\n",
       "    <tr>\n",
       "      <th>top</th>\n",
       "      <td>*/*</td>\n",
       "      <td>user1.comcast.com</td>\n",
       "      <td>ApacheBench/2.3</td>\n",
       "      <td>purchase_sword</td>\n",
       "      <td>2018-07-27 21:02:51.086</td>\n",
       "    </tr>\n",
       "    <tr>\n",
       "      <th>freq</th>\n",
       "      <td>10</td>\n",
       "      <td>10</td>\n",
       "      <td>10</td>\n",
       "      <td>10</td>\n",
       "      <td>1</td>\n",
       "    </tr>\n",
       "  </tbody>\n",
       "</table>\n",
       "</div>"
      ],
      "text/plain": [
       "       Accept               Host       User-Agent      event_type  \\\n",
       "count      10                 10               10              10   \n",
       "unique      1                  1                1               1   \n",
       "top       */*  user1.comcast.com  ApacheBench/2.3  purchase_sword   \n",
       "freq       10                 10               10              10   \n",
       "\n",
       "                      timestamp  \n",
       "count                        10  \n",
       "unique                       10  \n",
       "top     2018-07-27 21:02:51.086  \n",
       "freq                          1  "
      ]
     },
     "execution_count": 10,
     "metadata": {},
     "output_type": "execute_result"
    }
   ],
   "source": [
    "df.describe() # Describe the data frame"
   ]
  },
  {
   "cell_type": "code",
   "execution_count": null,
   "metadata": {
    "collapsed": true
   },
   "outputs": [],
   "source": []
  }
 ],
 "metadata": {
  "kernelspec": {
   "display_name": "Python 3",
   "language": "python",
   "name": "python3"
  },
  "language_info": {
   "codemirror_mode": {
    "name": "ipython",
    "version": 3
   },
   "file_extension": ".py",
   "mimetype": "text/x-python",
   "name": "python",
   "nbconvert_exporter": "python",
   "pygments_lexer": "ipython3",
   "version": "3.6.1"
  }
 },
 "nbformat": 4,
 "nbformat_minor": 2
}
